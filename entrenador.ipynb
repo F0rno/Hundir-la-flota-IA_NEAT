{
 "cells": [
  {
   "cell_type": "code",
   "execution_count": 5,
   "id": "1020102e",
   "metadata": {},
   "outputs": [],
   "source": [
    "from os import path, getcwd\n",
    "from hundir_la_flota_con_clases import *\n",
    "import neat\n",
    "import random\n",
    "import pickle"
   ]
  },
  {
   "cell_type": "code",
   "execution_count": 6,
   "id": "fbff4e44",
   "metadata": {},
   "outputs": [],
   "source": [
    "def eval_genomes(genomes, config):\n",
    "    \"\"\"\n",
    "    Instanciamos el número de juegos en base a los individuos de la generación(genomas), y lo hacemos jugar,\n",
    "    hasta que ganan mientras les recompensamos/castigamos en base a sus acciones.\n",
    "    \"\"\"\n",
    "    nets = []\n",
    "    ge = []\n",
    "    almirantes = []\n",
    "    \n",
    "    # Generamos las redes neuronales a entrenar (nets) y los Almirantes que jugaran\n",
    "    for genome_id, genome in genomes:\n",
    "        genome.fitness = 0\n",
    "        net = neat.nn.FeedForwardNetwork.create(genome, config)\n",
    "        nets.append(net)\n",
    "        almirantes.append(Almirante(\"IA\", True))\n",
    "        ge.append(genome)\n",
    "        \n",
    "    for indice, almirante in enumerate(almirantes):\n",
    "        # Variable de juego\n",
    "        posicions_conocidas = [(i, j) for i in range(10) for j in range(10)]\n",
    "        end = True\n",
    "        \n",
    "        while (end):\n",
    "            # Elegir una coordenada para disparar con la red neuronal\n",
    "            tablero_enemigo_numpy = almirante.tablero_enemigo_para_IA()\n",
    "            output = nets[almirantes.index(almirante)].activate(tablero_enemigo_numpy)\n",
    "            fila, columna = almirante.salida_de_red_a_indice(np.argmax(output))\n",
    "\n",
    "            # Si es una posición valida disparamos y la eliminamos para la siguiente iteración\n",
    "            if (fila, columna) in posicions_conocidas:\n",
    "                resultado_del_disparo = almirante.recibir_disparo(fila, columna)\n",
    "                posicions_conocidas.remove((fila, columna))\n",
    "\n",
    "            else:\n",
    "                # Si la red repite posición se le castiga y disparamos de manera aleatoria\n",
    "                ge[indice].fitness -= 1\n",
    "                if len(posicions_conocidas) > 0:\n",
    "                    fila, columna = posicions_conocidas[-1]\n",
    "                    posicions_conocidas.pop()\n",
    "                    resultado_del_disparo = almirante.recibir_disparo(fila, columna)\n",
    "                    \n",
    "            # A agua, T tocado, H hundido        \n",
    "            if resultado_del_disparo == \"A\":\n",
    "                ge[indice].fitness -= 1\n",
    "            elif resultado_del_disparo == \"T\":\n",
    "                ge[indice].fitness += 10\n",
    "            elif resultado_del_disparo == \"H\":\n",
    "                ge[indice].fitness += 10\n",
    "\n",
    "            # Actualizar el mapa con (Tocado, Hundido y Agua)\n",
    "            almirante.actualizar_tras_disparo(resultado_del_disparo, fila, columna)\n",
    "\n",
    "            if almirante.soy_ganador():\n",
    "                ge[indice].fitness += 20\n",
    "                end = False"
   ]
  },
  {
   "cell_type": "code",
   "execution_count": 7,
   "id": "655cbd2d",
   "metadata": {},
   "outputs": [],
   "source": [
    "def run(config_file):\n",
    "    \"\"\"\n",
    "    Ejecuta el algoritmo NEAT para entrenar una red neuronal para que juegue al hundir la flota.\n",
    "    :param config_file: dirección del archivo de configuración\n",
    "    \"\"\"\n",
    "    config = neat.config.Config(neat.DefaultGenome, neat.DefaultReproduction,\n",
    "                         neat.DefaultSpeciesSet, neat.DefaultStagnation,\n",
    "                         config_file)\n",
    "\n",
    "    # Crear la población de en base a la configutación \n",
    "    p = neat.Population(config)\n",
    "\n",
    "    # Mostrar un resumen al final de cada generación\n",
    "    p.add_reporter(neat.StdOutReporter(False))\n",
    "    stats = neat.StatisticsReporter()\n",
    "    p.add_reporter(stats)\n",
    "    # Generaciones del entrenamiento\n",
    "    geneaciones = 200\n",
    "    nombre_del_archivo_entrenado = \"red_entrenada\"\n",
    "    # Ejecutar el entrenamiento\n",
    "    winner = p.run(eval_genomes, geneaciones)\n",
    "    with open(f\"{nombre_del_archivo_entrenado}.pkl\", \"wb\") as f:\n",
    "        pickle.dump(winner, f)\n",
    "        \n",
    "    # Estadisticas finales\n",
    "    print('\\nEl mejor genoma:\\n{!s}'.format(winner))"
   ]
  },
  {
   "cell_type": "code",
   "execution_count": null,
   "id": "dc15cefd",
   "metadata": {},
   "outputs": [],
   "source": [
    "if __name__ == '__main__':\n",
    "    # Abrimos el archivo de configuración para el entrenamiento\n",
    "    config_path = path.join(getcwd(), 'config-feedforward.txt')\n",
    "    run(config_path)"
   ]
  }
 ],
 "metadata": {
  "kernelspec": {
   "display_name": "Python 3 (ipykernel)",
   "language": "python",
   "name": "python3"
  },
  "language_info": {
   "codemirror_mode": {
    "name": "ipython",
    "version": 3
   },
   "file_extension": ".py",
   "mimetype": "text/x-python",
   "name": "python",
   "nbconvert_exporter": "python",
   "pygments_lexer": "ipython3",
   "version": "3.10.10"
  },
  "vscode": {
   "interpreter": {
    "hash": "9f63e5cd1d8aa66b6be7dc691cbc2f7918c6ffa448f00656d109b1947617f5e7"
   }
  }
 },
 "nbformat": 4,
 "nbformat_minor": 5
}
